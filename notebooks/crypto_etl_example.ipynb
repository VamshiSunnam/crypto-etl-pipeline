{
 "cells": [
  {
   "cell_type": "markdown",
   "id": "64c51bdb",
   "metadata": {},
   "source": [
    "# Crypto ETL Pipeline Example\n",
    "This notebook demonstrates how to use the ETL pipeline and query the database."
   ]
  },
  {
   "cell_type": "code",
   "execution_count": null,
   "id": "192286db",
   "metadata": {},
   "outputs": [],
   "source": [
    "import pandas as pd\n",
    "from sqlalchemy import create_engine\n",
    "import os\n",
    "from dotenv import load_dotenv\n",
    "load_dotenv()\n",
    "user = os.getenv('POSTGRES_USER')\n",
    "password = os.getenv('POSTGRES_PASSWORD')\n",
    "host = os.getenv('POSTGRES_HOST', 'localhost')\n",
    "port = os.getenv('POSTGRES_PORT', '5432')\n",
    "db = os.getenv('POSTGRES_DB')\n",
    "db_url = f'postgresql+psycopg2://{user}:{password}@{host}:{port}/{db}'\n",
    "engine = create_engine(db_url)\n",
    "df = pd.read_sql_table('crypto_top_50', engine)\n",
    "df.head()"
   ]
  },
  {
   "cell_type": "code",
   "execution_count": null,
   "id": "36c8d80d",
   "metadata": {},
   "outputs": [],
   "source": [
    "# Plot price trend for Bitcoin\n",
    "btc = df[df['name'] == 'Bitcoin']\n",
    "btc.set_index('last_updated')['price_usd'].plot(title='Bitcoin Price Trend')"
   ]
  }
 ],
 "metadata": {
  "language_info": {
   "name": "python"
  }
 },
 "nbformat": 4,
 "nbformat_minor": 5
}
